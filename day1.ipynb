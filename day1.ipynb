{
 "cells": [
  {
   "cell_type": "code",
   "execution_count": 1,
   "metadata": {
    "collapsed": true
   },
   "outputs": [],
   "source": [
    "with open('./day1.txt', 'r') as f:\n",
    "    data = f.read()"
   ]
  },
  {
   "cell_type": "code",
   "execution_count": 2,
   "metadata": {
    "collapsed": false
   },
   "outputs": [],
   "source": [
    "# split directions\n",
    "directions = []\n",
    "dmap = {'L':-1, 'R':1}\n",
    "for d in data.replace(' ','').strip('\\n').strip().split(','):\n",
    "    directions.append((dmap.get(d[0]), int(d[1:])))"
   ]
  },
  {
   "cell_type": "code",
   "execution_count": 3,
   "metadata": {
    "collapsed": true
   },
   "outputs": [],
   "source": [
    "def get_moves(face, dist):\n",
    "    if face == 0:\n",
    "        move=(0, 1)\n",
    "    elif face == 1:\n",
    "        move=(1, 0)\n",
    "    elif face == 2:\n",
    "        move=(0,-1)\n",
    "    else:\n",
    "        move=(-1, 0)\n",
    "    return [move] * dist\n",
    "\n",
    "def get_pos(a, b):\n",
    "    return (a[0]+b[0], a[1]+b[1])"
   ]
  },
  {
   "cell_type": "markdown",
   "metadata": {},
   "source": [
    "### part 1"
   ]
  },
  {
   "cell_type": "code",
   "execution_count": 4,
   "metadata": {
    "collapsed": false
   },
   "outputs": [],
   "source": [
    "# get each move separately\n",
    "moves = []\n",
    "face = 0\n",
    "for d in directions:\n",
    "    turn = d[0]\n",
    "    dist = d[1]\n",
    "    face = (face + turn)%4\n",
    "    new_moves = get_moves(face, dist)\n",
    "    moves.extend(new_moves)"
   ]
  },
  {
   "cell_type": "code",
   "execution_count": 5,
   "metadata": {
    "collapsed": false
   },
   "outputs": [
    {
     "data": {
      "text/plain": [
       "253"
      ]
     },
     "execution_count": 5,
     "metadata": {},
     "output_type": "execute_result"
    }
   ],
   "source": [
    "# get ending spot\n",
    "pos = reduce(get_pos, moves)\n",
    "sum([abs(x) for x in pos])"
   ]
  },
  {
   "cell_type": "markdown",
   "metadata": {},
   "source": [
    "### part 2"
   ]
  },
  {
   "cell_type": "code",
   "execution_count": 6,
   "metadata": {
    "collapsed": false
   },
   "outputs": [
    {
     "name": "stdout",
     "output_type": "stream",
     "text": [
      "(123, 3)\n"
     ]
    }
   ],
   "source": [
    "# track unique stops\n",
    "stops = set()\n",
    "pos = (0,0)\n",
    "for move in moves:\n",
    "    pos = get_pos(pos, move)\n",
    "    if not pos in stops:\n",
    "        stops.add(pos)\n",
    "    else:\n",
    "        print(pos)\n",
    "        break"
   ]
  },
  {
   "cell_type": "code",
   "execution_count": 7,
   "metadata": {
    "collapsed": false
   },
   "outputs": [
    {
     "data": {
      "text/plain": [
       "126"
      ]
     },
     "execution_count": 7,
     "metadata": {},
     "output_type": "execute_result"
    }
   ],
   "source": [
    "sum([abs(x) for x in pos])"
   ]
  }
 ],
 "metadata": {
  "kernelspec": {
   "display_name": "Python 2",
   "language": "python",
   "name": "python2"
  },
  "language_info": {
   "codemirror_mode": {
    "name": "ipython",
    "version": 2
   },
   "file_extension": ".py",
   "mimetype": "text/x-python",
   "name": "python",
   "nbconvert_exporter": "python",
   "pygments_lexer": "ipython2",
   "version": "2.7.11"
  }
 },
 "nbformat": 4,
 "nbformat_minor": 0
}
