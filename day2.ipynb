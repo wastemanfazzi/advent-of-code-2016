{
 "cells": [
  {
   "cell_type": "code",
   "execution_count": 130,
   "metadata": {
    "collapsed": true
   },
   "outputs": [],
   "source": [
    "with open('./day2.txt', 'r') as f:\n",
    "    data = [list(d.strip('\\n')) for d in f.readlines()]"
   ]
  },
  {
   "cell_type": "code",
   "execution_count": 45,
   "metadata": {
    "collapsed": true
   },
   "outputs": [],
   "source": [
    "move_map = {\n",
    "    'U': (-1,0),\n",
    "    'D': (1,0),\n",
    "    'L': (0,-1),\n",
    "    'R': (0,1)\n",
    "}"
   ]
  },
  {
   "cell_type": "code",
   "execution_count": 46,
   "metadata": {
    "collapsed": true
   },
   "outputs": [],
   "source": [
    "def get_move(direction):\n",
    "    return move_map.get(direction)"
   ]
  },
  {
   "cell_type": "code",
   "execution_count": 63,
   "metadata": {
    "collapsed": true
   },
   "outputs": [],
   "source": [
    "def cap_int(i, low, high):\n",
    "    if i < low:\n",
    "        return low\n",
    "    elif i > high:\n",
    "        return high\n",
    "    return i"
   ]
  },
  {
   "cell_type": "code",
   "execution_count": 205,
   "metadata": {
    "collapsed": true
   },
   "outputs": [],
   "source": [
    "def get_pos(pos, move):\n",
    "    r = pos[0] + move[0]\n",
    "    c = pos[1] + move[1]\n",
    "    return (r,c)"
   ]
  },
  {
   "cell_type": "code",
   "execution_count": 258,
   "metadata": {
    "collapsed": true
   },
   "outputs": [],
   "source": [
    "def get_key_dict(keypad):\n",
    "    key_dict = {}\n",
    "    for r in range(len(keypad)):\n",
    "        for c in range(len(keypad[r])):\n",
    "            digit = keypad[r][c]\n",
    "            if digit:\n",
    "                key_dict[(r,c)] = digit\n",
    "    return key_dict"
   ]
  },
  {
   "cell_type": "code",
   "execution_count": 305,
   "metadata": {
    "collapsed": false
   },
   "outputs": [],
   "source": [
    "def get_code(keypad, data, start):\n",
    "    key_dict = get_key_dict(keypad)\n",
    "    keys = []\n",
    "    pos = start\n",
    "    for row in data:\n",
    "        moves = map(get_move, row)\n",
    "        for move in moves:\n",
    "            new_pos = get_pos(pos, move)\n",
    "            if key_dict.get(new_pos):\n",
    "                pos = new_pos\n",
    "\n",
    "        key = key_dict.get(pos)\n",
    "        keys.append(key)\n",
    "    return ''.join(keys)"
   ]
  },
  {
   "cell_type": "markdown",
   "metadata": {},
   "source": [
    "### part 1"
   ]
  },
  {
   "cell_type": "code",
   "execution_count": 306,
   "metadata": {
    "collapsed": false
   },
   "outputs": [
    {
     "name": "stdout",
     "output_type": "stream",
     "text": [
      "['1', '2', '3']\n",
      "['4', '5', '6']\n",
      "['7', '8', '9']\n"
     ]
    }
   ],
   "source": [
    "keypad = [[str(3*r+c) for c in range(1,4)] for r in range(3)]\n",
    "for r in keypad:\n",
    "    print(r)"
   ]
  },
  {
   "cell_type": "code",
   "execution_count": 307,
   "metadata": {
    "collapsed": false
   },
   "outputs": [
    {
     "data": {
      "text/plain": [
       "'78985'"
      ]
     },
     "execution_count": 307,
     "metadata": {},
     "output_type": "execute_result"
    }
   ],
   "source": [
    "start = (1,1)\n",
    "get_code(keypad, data, start)"
   ]
  },
  {
   "cell_type": "markdown",
   "metadata": {},
   "source": [
    "### part 2"
   ]
  },
  {
   "cell_type": "code",
   "execution_count": 308,
   "metadata": {
    "collapsed": false
   },
   "outputs": [],
   "source": [
    "newkeypad = '''\n",
    "    1\n",
    "  2 3 4\n",
    "5 6 7 8 9\n",
    "  A B C\n",
    "    D\n",
    "'''"
   ]
  },
  {
   "cell_type": "code",
   "execution_count": 309,
   "metadata": {
    "collapsed": false
   },
   "outputs": [],
   "source": [
    "keypad = []\n",
    "for row in newkeypad.split('\\n')[1:-1]:\n",
    "    row = row.replace(' ','')\n",
    "    key_row = []\n",
    "    empty = 5-len(row)\n",
    "    filler = [None] * (empty/2)\n",
    "    key_row.extend(filler)\n",
    "    key_row.extend(row)\n",
    "    key_row.extend(filler)\n",
    "    keypad.append(key_row)"
   ]
  },
  {
   "cell_type": "code",
   "execution_count": 311,
   "metadata": {
    "collapsed": false
   },
   "outputs": [
    {
     "data": {
      "text/plain": [
       "'57DD8'"
      ]
     },
     "execution_count": 311,
     "metadata": {},
     "output_type": "execute_result"
    }
   ],
   "source": [
    "start = (2,0)\n",
    "get_code(keypad, data, start)"
   ]
  }
 ],
 "metadata": {
  "kernelspec": {
   "display_name": "Python 2",
   "language": "python",
   "name": "python2"
  },
  "language_info": {
   "codemirror_mode": {
    "name": "ipython",
    "version": 2
   },
   "file_extension": ".py",
   "mimetype": "text/x-python",
   "name": "python",
   "nbconvert_exporter": "python",
   "pygments_lexer": "ipython2",
   "version": "2.7.11"
  }
 },
 "nbformat": 4,
 "nbformat_minor": 0
}
