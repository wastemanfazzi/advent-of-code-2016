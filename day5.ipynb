{
 "cells": [
  {
   "cell_type": "code",
   "execution_count": 2,
   "metadata": {
    "collapsed": false
   },
   "outputs": [],
   "source": [
    "import hashlib"
   ]
  },
  {
   "cell_type": "code",
   "execution_count": 27,
   "metadata": {
    "collapsed": false
   },
   "outputs": [],
   "source": [
    "def find_code(pfx, sfx=0):\n",
    "    code = pfx + bytes(str(sfx),'ascii')\n",
    "    x = hashlib.md5(code).hexdigest()[:6]\n",
    "    if x.startswith('00000'):\n",
    "        return x[5]"
   ]
  },
  {
   "cell_type": "code",
   "execution_count": 29,
   "metadata": {
    "collapsed": false,
    "scrolled": false
   },
   "outputs": [
    {
     "name": "stdout",
     "output_type": "stream",
     "text": [
      "1469591 - 4\n",
      "1925351 - 45\n",
      "4310992 - 454\n",
      "4851204 - 4543\n",
      "6610226 - 4543c\n",
      "6840976 - 4543c1\n",
      "9504234 - 4543c15\n",
      "10320588 - 4543c154\n"
     ]
    }
   ],
   "source": [
    "# pt1\n",
    "code = []\n",
    "i = 0\n",
    "pfx = b'ojvtpuvg'\n",
    "while len(code) < 8:\n",
    "    x = hashlib.md5(pfx + bytes(str(i),'ascii')).hexdigest()\n",
    "    if x.startswith('00000'):\n",
    "        code.append(x)\n",
    "        print(i, '-', ''.join(code))\n",
    "    \n",
    "    i += 1"
   ]
  },
  {
   "cell_type": "code",
   "execution_count": 48,
   "metadata": {
    "collapsed": false
   },
   "outputs": [
    {
     "data": {
      "text/plain": [
       "['0', '1', '2', '3', '4', '5', '6', '7']"
      ]
     },
     "execution_count": 48,
     "metadata": {},
     "output_type": "execute_result"
    }
   ],
   "source": [
    "[str(y) for y in range(8)]"
   ]
  },
  {
   "cell_type": "code",
   "execution_count": 52,
   "metadata": {
    "collapsed": false,
    "scrolled": false
   },
   "outputs": [
    {
     "name": "stdout",
     "output_type": "stream",
     "text": [
      "____c___ \t hash count: 1469591 hash: 000004c52f7523dcea0ae987bb4bb7ae\n",
      "____cb__ \t hash count: 1925351 hash: 000005b6777c6a6a5a72d3593ee1bade\n",
      "___0cb__ \t hash count: 4851204 hash: 00000307d284ec5fe32c12546f61d675\n",
      "_0_0cb__ \t hash count: 6840976 hash: 00000101e84b5e967cba0ba19c7e7e00\n",
      "_050cb__ \t hash count: 13615245 hash: 0000025a843b2da11af739013e61606f\n",
      "_050cb_d \t hash count: 16706030 hash: 000007d5f6040c1a402d7b5994b1e061\n",
      "_050cbbd \t hash count: 23173947 hash: 000006b0b288f96dcfc18f6a2414968b\n",
      "1050cbbd \t hash count: 27649592 hash: 0000001c18c78b4ca1896ebc9692c67d\n"
     ]
    }
   ],
   "source": [
    "#pt2\n",
    "code = list('_'*8)\n",
    "i = 0\n",
    "good = [str(y) for y in range(8)]\n",
    "pfx = b'ojvtpuvg'\n",
    "while '_' in code:\n",
    "    x = hashlib.md5(pfx + bytes(str(i),'ascii')).hexdigest()\n",
    "    if x.startswith('00000'):\n",
    "        if x[5] in good  and code[int(x[5])]=='_':\n",
    "            code[int(x[5])] = x[6]\n",
    "            print(''.join(code),'\\t hash count:',i,'hash:',x)\n",
    "    \n",
    "    i += 1"
   ]
  },
  {
   "cell_type": "code",
   "execution_count": null,
   "metadata": {
    "collapsed": true
   },
   "outputs": [],
   "source": []
  }
 ],
 "metadata": {
  "anaconda-cloud": {},
  "kernelspec": {
   "display_name": "Python [default]",
   "language": "python",
   "name": "python3"
  },
  "language_info": {
   "codemirror_mode": {
    "name": "ipython",
    "version": 3
   },
   "file_extension": ".py",
   "mimetype": "text/x-python",
   "name": "python",
   "nbconvert_exporter": "python",
   "pygments_lexer": "ipython3",
   "version": "3.5.2"
  }
 },
 "nbformat": 4,
 "nbformat_minor": 1
}
