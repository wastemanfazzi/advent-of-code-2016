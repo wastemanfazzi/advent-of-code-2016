{
 "cells": [
  {
   "cell_type": "code",
   "execution_count": 1,
   "metadata": {
    "collapsed": true
   },
   "outputs": [],
   "source": [
    "import re"
   ]
  },
  {
   "cell_type": "markdown",
   "metadata": {},
   "source": [
    "### part 1"
   ]
  },
  {
   "cell_type": "code",
   "execution_count": 2,
   "metadata": {
    "collapsed": false
   },
   "outputs": [],
   "source": [
    "def is_tls(code):\n",
    "    # anything in brackets\n",
    "    p1 = r'\\[.*?\\]'\n",
    "    \n",
    "    # four letters, not four dups in a row, abba pattern\n",
    "    p2 = r'(?=[A-Za-z]{4})(?!(\\w)\\1\\1\\1)(.)(.)(\\3)(\\2)'\n",
    "\n",
    "    # return false if ABBA pattern inside []\n",
    "    for m in re.findall(p1, code):\n",
    "        if not re.search(p2, m) is None:\n",
    "            return False\n",
    "\n",
    "    # return true if ABBA not in []\n",
    "    for m in re.split(p1, code):\n",
    "        if not re.search(p2, m) is None:\n",
    "            return True\n",
    "\n",
    "    return False"
   ]
  },
  {
   "cell_type": "code",
   "execution_count": 3,
   "metadata": {
    "collapsed": true
   },
   "outputs": [],
   "source": [
    "with open('./day7.txt','r') as f:\n",
    "    data = f.read().splitlines()"
   ]
  },
  {
   "cell_type": "code",
   "execution_count": 4,
   "metadata": {
    "collapsed": false
   },
   "outputs": [
    {
     "data": {
      "text/plain": [
       "105"
      ]
     },
     "execution_count": 4,
     "metadata": {},
     "output_type": "execute_result"
    }
   ],
   "source": [
    "sum(is_tls(ip) for ip in data)"
   ]
  },
  {
   "cell_type": "markdown",
   "metadata": {
    "collapsed": true
   },
   "source": [
    "### part 2"
   ]
  },
  {
   "cell_type": "code",
   "execution_count": 5,
   "metadata": {
    "collapsed": false
   },
   "outputs": [],
   "source": [
    "def is_ssl(code):\n",
    "    '''welcome to hell'''\n",
    "    # brackets\n",
    "    p1 = r'\\[.*?\\]'\n",
    "    \n",
    "    # aba pattern\n",
    "    p2 = r'(?!(\\w)\\1\\1)(\\w)\\w(\\2)'\n",
    "    \n",
    "    # loop over all bracketed items\n",
    "    for b in re.findall(p1, code):\n",
    "        btmp = b\n",
    "        # search for aba pattern through each letter b/c\n",
    "        # python regex doesn't support overlap\n",
    "        while len(btmp) >= 3:\n",
    "            m = re.match(p2, btmp)\n",
    "            if m:\n",
    "                bab = m.group()\n",
    "                aba = bab[1]+bab[0:2]\n",
    "                for r in re.split(p1, code):\n",
    "                    if aba in r:\n",
    "                        return True\n",
    "            btmp = btmp[1:]\n",
    "    return False"
   ]
  },
  {
   "cell_type": "code",
   "execution_count": 6,
   "metadata": {
    "collapsed": false
   },
   "outputs": [
    {
     "data": {
      "text/plain": [
       "258"
      ]
     },
     "execution_count": 6,
     "metadata": {},
     "output_type": "execute_result"
    }
   ],
   "source": [
    "sum(is_ssl(ip) for ip in data)"
   ]
  }
 ],
 "metadata": {
  "anaconda-cloud": {},
  "kernelspec": {
   "display_name": "Python [conda root]",
   "language": "python",
   "name": "conda-root-py"
  },
  "language_info": {
   "codemirror_mode": {
    "name": "ipython",
    "version": 3
   },
   "file_extension": ".py",
   "mimetype": "text/x-python",
   "name": "python",
   "nbconvert_exporter": "python",
   "pygments_lexer": "ipython3",
   "version": "3.5.2"
  }
 },
 "nbformat": 4,
 "nbformat_minor": 1
}
